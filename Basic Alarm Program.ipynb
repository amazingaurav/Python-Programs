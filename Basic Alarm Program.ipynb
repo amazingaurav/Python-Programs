{
 "cells": [
  {
   "cell_type": "code",
   "execution_count": null,
   "metadata": {},
   "outputs": [
    {
     "name": "stdout",
     "output_type": "stream",
     "text": [
      "enter hour in between (0 to 12) : 9\n",
      "enter min in between (0 to 59) : 55\n",
      "am/pmpm\n",
      "Playing!....\n"
     ]
    }
   ],
   "source": [
    "import datetime\n",
    "from playsound import playsound\n",
    "\n",
    "#taking hour input from user\n",
    "\n",
    "alarm_hr = int(input('enter hour in between (0 to 12) : '))\n",
    "\n",
    "#taking minute input from user\n",
    "alarm_min = int(input('enter min in between (0 to 59) : '))\n",
    "\n",
    "\n",
    "#checking if user wants to set alarm for 'am' or 'pm'\n",
    "is_time_am_to_pm = input('am/pm')\n",
    "\n",
    "if is_time_am_to_pm=='pm':\n",
    "    alarm_hr += 12\n",
    "    \n",
    "while True:\n",
    "    if (alarm_hr == datetime.datetime.now().hour and alarm_min == datetime.datetime.now().minute):\n",
    "        print('Playing!....')\n",
    "        playsound('\\Alarm_tune.mp3')\n",
    "        break"
   ]
  },
  {
   "cell_type": "code",
   "execution_count": null,
   "metadata": {},
   "outputs": [],
   "source": []
  },
  {
   "cell_type": "code",
   "execution_count": null,
   "metadata": {},
   "outputs": [],
   "source": []
  }
 ],
 "metadata": {
  "kernelspec": {
   "display_name": "Python 3",
   "language": "python",
   "name": "python3"
  },
  "language_info": {
   "codemirror_mode": {
    "name": "ipython",
    "version": 3
   },
   "file_extension": ".py",
   "mimetype": "text/x-python",
   "name": "python",
   "nbconvert_exporter": "python",
   "pygments_lexer": "ipython3",
   "version": "3.6.4"
  }
 },
 "nbformat": 4,
 "nbformat_minor": 2
}
